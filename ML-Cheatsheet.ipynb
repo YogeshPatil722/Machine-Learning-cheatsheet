{
 "cells": [
  {
   "cell_type": "markdown",
   "id": "70ebb9a0-f33f-4ddf-bf7f-b0ac187065ee",
   "metadata": {},
   "source": [
    "# ML - Cheatsheet"
   ]
  },
  {
   "cell_type": "markdown",
   "id": "41023502-ffac-4079-a6f7-10ad296a943f",
   "metadata": {},
   "source": [
    "### Model Selection\n",
    "1. KFold  \n",
    "2. StratifiedKFold  \n",
    "3. cross_val_score  \n",
    "4. GridSearchCV\n",
    "5. train_test_split\n",
    "\n",
    "### Decomposition & Dimensionality Reduction \n",
    "1. PCA  \n",
    "2. t-SNE  \n",
    "3. UMAP  \n",
    "\n",
    "### Preprocessing\n",
    "1. MinMaxScaler  \n",
    "2. StandardScaler  \n",
    "3. pd.get_dummies  \n",
    "4. OneHotEncoder  \n",
    "5. LabelEncoder  \n",
    "\n",
    "### Supervised Learning  \n",
    "**(Labeled data: X + y)**  \n",
    "\n",
    "🔹 Classification  \n",
    "- Logistic Regression  \n",
    "- Decision Tree Classifier  \n",
    "- Random Forest Classifier  \n",
    "- K-Nearest Neighbors (KNN)  \n",
    "- Support Vector Machine (SVM)  \n",
    "- Naive Bayes  \n",
    "- BaggingClassifier  \n",
    "- AdaBoost, Gradient Boosting  \n",
    "\n",
    "🔹 Regression  \n",
    "- Linear Regression  \n",
    "- Decision Tree Regressor  \n",
    "- Random Forest Regressor  \n",
    "- Ridge/Lasso Regression  \n",
    "- SVR (Support Vector Regressor)  \n",
    "\n",
    "### Unsupervised Learning  \n",
    "**(Unlabeled data: Only X)**  \n",
    "\n",
    "🔹 Clustering  \n",
    "1. KMeans  \n",
    "2. DBSCAN  \n",
    "3. Hierarchical Clustering  \n",
    "4. Gaussian Mixture Models (GMM)  \n",
    "\n",
    "### Model Evaluation and Metrics\n",
    "1. classification_report  \n",
    "2. confusion_matrix  \n",
    "\n",
    "### Import & Utilities\n",
    "1. Pickle  \n",
    "2. Pipeline"
   ]
  },
  {
   "cell_type": "markdown",
   "id": "2d2e052b-93d9-4ed9-b6e9-d490444ffefa",
   "metadata": {},
   "source": [
    "### Lets start "
   ]
  },
  {
   "cell_type": "code",
   "execution_count": 3,
   "id": "e0914054-454e-435c-a93f-6de12d850de0",
   "metadata": {},
   "outputs": [],
   "source": [
    "import pandas as pd \n",
    "import numpy as np \n",
    "from sklearn.datasets import load_iris"
   ]
  },
  {
   "cell_type": "code",
   "execution_count": 4,
   "id": "a7318107-731e-414b-9d46-5c47d0c55999",
   "metadata": {},
   "outputs": [
    {
     "data": {
      "text/plain": [
       "['DESCR',\n",
       " 'data',\n",
       " 'data_module',\n",
       " 'feature_names',\n",
       " 'filename',\n",
       " 'frame',\n",
       " 'target',\n",
       " 'target_names']"
      ]
     },
     "execution_count": 4,
     "metadata": {},
     "output_type": "execute_result"
    }
   ],
   "source": [
    "iris = load_iris()\n",
    "dir(iris)"
   ]
  },
  {
   "cell_type": "code",
   "execution_count": 5,
   "id": "21357e93-b402-4af9-ace7-540d52072177",
   "metadata": {},
   "outputs": [],
   "source": [
    "# Traning data framing\n",
    "df1 = pd.DataFrame( iris.data , columns = [\"sepal_length\" , \"sepal_width\" , \"petal_length\" , \"petal_width\"])\n",
    "df2 = pd.DataFrame( iris.target , columns = [\"Target\"])\n",
    "df3 = pd.DataFrame(iris.target_names , columns= [\"Target_names\"])\n",
    "df4 = pd.concat([df1 , df2] , axis=1)\n",
    "df5 = df3.reset_index()\n",
    "df = df4.merge(df5 , how=\"left\" , left_on=\"Target\" , right_on=\"index\")\n",
    "df = df.drop(\"index\" , axis=1)"
   ]
  },
  {
   "cell_type": "code",
   "execution_count": 6,
   "id": "9729af7f-a130-439e-8b73-573a89c96857",
   "metadata": {},
   "outputs": [
    {
     "data": {
      "text/html": [
       "<div>\n",
       "<style scoped>\n",
       "    .dataframe tbody tr th:only-of-type {\n",
       "        vertical-align: middle;\n",
       "    }\n",
       "\n",
       "    .dataframe tbody tr th {\n",
       "        vertical-align: top;\n",
       "    }\n",
       "\n",
       "    .dataframe thead th {\n",
       "        text-align: right;\n",
       "    }\n",
       "</style>\n",
       "<table border=\"1\" class=\"dataframe\">\n",
       "  <thead>\n",
       "    <tr style=\"text-align: right;\">\n",
       "      <th></th>\n",
       "      <th>sepal_length</th>\n",
       "      <th>sepal_width</th>\n",
       "      <th>petal_length</th>\n",
       "      <th>petal_width</th>\n",
       "      <th>Target</th>\n",
       "      <th>Target_names</th>\n",
       "    </tr>\n",
       "  </thead>\n",
       "  <tbody>\n",
       "    <tr>\n",
       "      <th>0</th>\n",
       "      <td>5.1</td>\n",
       "      <td>3.5</td>\n",
       "      <td>1.4</td>\n",
       "      <td>0.2</td>\n",
       "      <td>0</td>\n",
       "      <td>setosa</td>\n",
       "    </tr>\n",
       "    <tr>\n",
       "      <th>1</th>\n",
       "      <td>4.9</td>\n",
       "      <td>3.0</td>\n",
       "      <td>1.4</td>\n",
       "      <td>0.2</td>\n",
       "      <td>0</td>\n",
       "      <td>setosa</td>\n",
       "    </tr>\n",
       "    <tr>\n",
       "      <th>2</th>\n",
       "      <td>4.7</td>\n",
       "      <td>3.2</td>\n",
       "      <td>1.3</td>\n",
       "      <td>0.2</td>\n",
       "      <td>0</td>\n",
       "      <td>setosa</td>\n",
       "    </tr>\n",
       "    <tr>\n",
       "      <th>3</th>\n",
       "      <td>4.6</td>\n",
       "      <td>3.1</td>\n",
       "      <td>1.5</td>\n",
       "      <td>0.2</td>\n",
       "      <td>0</td>\n",
       "      <td>setosa</td>\n",
       "    </tr>\n",
       "    <tr>\n",
       "      <th>4</th>\n",
       "      <td>5.0</td>\n",
       "      <td>3.6</td>\n",
       "      <td>1.4</td>\n",
       "      <td>0.2</td>\n",
       "      <td>0</td>\n",
       "      <td>setosa</td>\n",
       "    </tr>\n",
       "  </tbody>\n",
       "</table>\n",
       "</div>"
      ],
      "text/plain": [
       "   sepal_length  sepal_width  petal_length  petal_width  Target Target_names\n",
       "0           5.1          3.5           1.4          0.2       0       setosa\n",
       "1           4.9          3.0           1.4          0.2       0       setosa\n",
       "2           4.7          3.2           1.3          0.2       0       setosa\n",
       "3           4.6          3.1           1.5          0.2       0       setosa\n",
       "4           5.0          3.6           1.4          0.2       0       setosa"
      ]
     },
     "execution_count": 6,
     "metadata": {},
     "output_type": "execute_result"
    }
   ],
   "source": [
    "df.head()"
   ]
  },
  {
   "cell_type": "code",
   "execution_count": 7,
   "id": "fdff3633-435b-4e98-9bfb-0cd7d3039c69",
   "metadata": {},
   "outputs": [],
   "source": [
    "x = df.drop([\"Target\" , \"Target_names\"] , axis = 1)\n",
    "y = df[\"Target\"]"
   ]
  },
  {
   "cell_type": "markdown",
   "id": "5f65cd6b-ccea-441c-b7bb-544a62bbf891",
   "metadata": {},
   "source": [
    "## Model Selection"
   ]
  },
  {
   "cell_type": "code",
   "execution_count": 8,
   "id": "05a8a931-788c-42c1-91c0-a70f89dddd20",
   "metadata": {},
   "outputs": [],
   "source": [
    "from sklearn.model_selection import KFold\n",
    "from sklearn.model_selection import StratifiedKFold\n",
    "from sklearn.model_selection import cross_val_score\n",
    "from sklearn.model_selection import GridSearchCV"
   ]
  },
  {
   "cell_type": "markdown",
   "id": "f5a2aeaa-d513-44b1-8eb7-1a482b9320bb",
   "metadata": {},
   "source": [
    "### Train Test Split"
   ]
  },
  {
   "cell_type": "code",
   "execution_count": 117,
   "id": "6b1fbd85-8364-4793-b560-96295b0d888e",
   "metadata": {},
   "outputs": [],
   "source": [
    "# To devide data into training and testing set\n",
    "from sklearn.model_selection  import train_test_split\n",
    "x_train , x_test , y_train , y_test = train_test_split(x , y , test_size=0.3)"
   ]
  },
  {
   "cell_type": "markdown",
   "id": "10c101b9-dbc8-4131-af18-5b04a709e0d6",
   "metadata": {},
   "source": [
    "### KFold"
   ]
  },
  {
   "cell_type": "code",
   "execution_count": 10,
   "id": "6d839095-c8e0-4434-bd1e-9b7021831334",
   "metadata": {},
   "outputs": [
    {
     "data": {
      "text/plain": [
       "((120,), (30,))"
      ]
     },
     "execution_count": 10,
     "metadata": {},
     "output_type": "execute_result"
    }
   ],
   "source": [
    "# Same as KFold, but preserves the percentage of samples per class (useful in classification).\n",
    "from sklearn.model_selection import KFold\n",
    "\n",
    "kfold = KFold(n_splits= 5 , shuffle=True , random_state=42)\n",
    "for train_index , test_index in kfold.split(df):\n",
    "    train_index , test_index\n",
    "train_index.shape , test_index.shape"
   ]
  },
  {
   "cell_type": "markdown",
   "id": "839bce70-4909-412d-bdb4-be81822e10cc",
   "metadata": {},
   "source": [
    "### Startified KFold"
   ]
  },
  {
   "cell_type": "code",
   "execution_count": 11,
   "id": "8cc582cc-7ab5-4a03-9cc0-9f6d73bd8d3c",
   "metadata": {},
   "outputs": [],
   "source": [
    "# Same as KFold, but preserves the percentage of samples per class (useful in classification). \n",
    "from sklearn.model_selection import StratifiedKFold \n",
    "skf =  StratifiedKFold(n_splits=5 , shuffle=True)\n",
    "for skf_train_index, skf_test_index in skf.split(x, y):\n",
    "    X_train, X_test = x.iloc[skf_train_index], x.iloc[skf_test_index]\n",
    "    y_train, y_test = y.iloc[skf_train_index], y.iloc[skf_test_index]"
   ]
  },
  {
   "cell_type": "markdown",
   "id": "8e23a85b-7719-44bd-8288-e372abf28365",
   "metadata": {},
   "source": [
    "### cross_val_score"
   ]
  },
  {
   "cell_type": "code",
   "execution_count": 12,
   "id": "4067c822-5c22-44ff-80c6-7939f5205c1c",
   "metadata": {},
   "outputs": [
    {
     "name": "stdout",
     "output_type": "stream",
     "text": [
      "CV Scores: [0.96666667 0.96666667 0.9        0.93333333 1.        ]\n",
      "Mean Accuracy: 0.9533333333333334\n"
     ]
    }
   ],
   "source": [
    "# Automatically splits data, trains, tests, and returns scores for each fold.\n",
    "from sklearn.model_selection import cross_val_score\n",
    "from sklearn.ensemble import RandomForestClassifier\n",
    "\n",
    "model = RandomForestClassifier()\n",
    "scores = cross_val_score(model, x, y, cv=5)\n",
    "\n",
    "print(\"CV Scores:\", scores)\n",
    "print(\"Mean Accuracy:\", scores.mean())"
   ]
  },
  {
   "cell_type": "markdown",
   "id": "9be55e85-e625-442a-92a3-08753de3b86b",
   "metadata": {},
   "source": [
    "### GridSearchCV"
   ]
  },
  {
   "cell_type": "code",
   "execution_count": 13,
   "id": "25e64338-901c-4134-b18d-ba0e8ecdd507",
   "metadata": {},
   "outputs": [
    {
     "name": "stdout",
     "output_type": "stream",
     "text": [
      "Best Params: {'C': 1, 'kernel': 'linear'}\n",
      "Best Score: 0.9800000000000001\n"
     ]
    }
   ],
   "source": [
    "# Searches for the best hyperparameters by trying all combinations from a given parameter grid using cross-validation.\n",
    "from sklearn.model_selection import GridSearchCV\n",
    "from sklearn.svm import SVC\n",
    "\n",
    "param_grid = {'C': [0.1, 1, 10], 'kernel': ['linear', 'rbf']}\n",
    "grid = GridSearchCV(SVC(), param_grid, cv=5)\n",
    "grid.fit(x, y)\n",
    "\n",
    "print(\"Best Params:\", grid.best_params_)\n",
    "print(\"Best Score:\", grid.best_score_)"
   ]
  },
  {
   "cell_type": "markdown",
   "id": "f5eb05b9-a900-459b-91da-f950f6ebc08f",
   "metadata": {},
   "source": [
    "##  Preprocessing"
   ]
  },
  {
   "cell_type": "markdown",
   "id": "989e58c2-776e-4935-a0bd-99d91ce8df46",
   "metadata": {},
   "source": [
    "####   MInMaxScalar"
   ]
  },
  {
   "cell_type": "code",
   "execution_count": 25,
   "id": "32e7684d-ba2d-4889-84a2-df000b53c28c",
   "metadata": {},
   "outputs": [
    {
     "data": {
      "text/html": [
       "<div>\n",
       "<style scoped>\n",
       "    .dataframe tbody tr th:only-of-type {\n",
       "        vertical-align: middle;\n",
       "    }\n",
       "\n",
       "    .dataframe tbody tr th {\n",
       "        vertical-align: top;\n",
       "    }\n",
       "\n",
       "    .dataframe thead th {\n",
       "        text-align: right;\n",
       "    }\n",
       "</style>\n",
       "<table border=\"1\" class=\"dataframe\">\n",
       "  <thead>\n",
       "    <tr style=\"text-align: right;\">\n",
       "      <th></th>\n",
       "      <th>0</th>\n",
       "      <th>1</th>\n",
       "    </tr>\n",
       "  </thead>\n",
       "  <tbody>\n",
       "    <tr>\n",
       "      <th>0</th>\n",
       "      <td>0.222222</td>\n",
       "      <td>0.625000</td>\n",
       "    </tr>\n",
       "    <tr>\n",
       "      <th>1</th>\n",
       "      <td>0.166667</td>\n",
       "      <td>0.416667</td>\n",
       "    </tr>\n",
       "    <tr>\n",
       "      <th>2</th>\n",
       "      <td>0.111111</td>\n",
       "      <td>0.500000</td>\n",
       "    </tr>\n",
       "    <tr>\n",
       "      <th>3</th>\n",
       "      <td>0.083333</td>\n",
       "      <td>0.458333</td>\n",
       "    </tr>\n",
       "    <tr>\n",
       "      <th>4</th>\n",
       "      <td>0.194444</td>\n",
       "      <td>0.666667</td>\n",
       "    </tr>\n",
       "  </tbody>\n",
       "</table>\n",
       "</div>"
      ],
      "text/plain": [
       "          0         1\n",
       "0  0.222222  0.625000\n",
       "1  0.166667  0.416667\n",
       "2  0.111111  0.500000\n",
       "3  0.083333  0.458333\n",
       "4  0.194444  0.666667"
      ]
     },
     "execution_count": 25,
     "metadata": {},
     "output_type": "execute_result"
    }
   ],
   "source": [
    "# it it used to scaling data into normalization. Scales features to a fixed range, typically [0, 1].\n",
    "from sklearn.preprocessing import MinMaxScaler\n",
    "minmaxscalar = MinMaxScaler()\n",
    "scaled_df = pd.DataFrame(minmaxscalar.fit_transform(df[[\"sepal_length\", \"sepal_width\"]]))\n",
    "scaled_df.head()"
   ]
  },
  {
   "cell_type": "markdown",
   "id": "fe6cab47-7b1c-4a33-bd4a-565a5fa1a3ba",
   "metadata": {},
   "source": [
    "####   Standard Scalar"
   ]
  },
  {
   "cell_type": "code",
   "execution_count": 26,
   "id": "6caf930f-b03b-4146-b00d-3238606ba504",
   "metadata": {},
   "outputs": [
    {
     "data": {
      "text/html": [
       "<div>\n",
       "<style scoped>\n",
       "    .dataframe tbody tr th:only-of-type {\n",
       "        vertical-align: middle;\n",
       "    }\n",
       "\n",
       "    .dataframe tbody tr th {\n",
       "        vertical-align: top;\n",
       "    }\n",
       "\n",
       "    .dataframe thead th {\n",
       "        text-align: right;\n",
       "    }\n",
       "</style>\n",
       "<table border=\"1\" class=\"dataframe\">\n",
       "  <thead>\n",
       "    <tr style=\"text-align: right;\">\n",
       "      <th></th>\n",
       "      <th>0</th>\n",
       "      <th>1</th>\n",
       "    </tr>\n",
       "  </thead>\n",
       "  <tbody>\n",
       "    <tr>\n",
       "      <th>0</th>\n",
       "      <td>-0.900681</td>\n",
       "      <td>1.019004</td>\n",
       "    </tr>\n",
       "    <tr>\n",
       "      <th>1</th>\n",
       "      <td>-1.143017</td>\n",
       "      <td>-0.131979</td>\n",
       "    </tr>\n",
       "    <tr>\n",
       "      <th>2</th>\n",
       "      <td>-1.385353</td>\n",
       "      <td>0.328414</td>\n",
       "    </tr>\n",
       "    <tr>\n",
       "      <th>3</th>\n",
       "      <td>-1.506521</td>\n",
       "      <td>0.098217</td>\n",
       "    </tr>\n",
       "    <tr>\n",
       "      <th>4</th>\n",
       "      <td>-1.021849</td>\n",
       "      <td>1.249201</td>\n",
       "    </tr>\n",
       "  </tbody>\n",
       "</table>\n",
       "</div>"
      ],
      "text/plain": [
       "          0         1\n",
       "0 -0.900681  1.019004\n",
       "1 -1.143017 -0.131979\n",
       "2 -1.385353  0.328414\n",
       "3 -1.506521  0.098217\n",
       "4 -1.021849  1.249201"
      ]
     },
     "execution_count": 26,
     "metadata": {},
     "output_type": "execute_result"
    }
   ],
   "source": [
    "# it it used to scaling data into standardlization. Standardizes features by removing the mean and scaling to unit variance.\n",
    "from sklearn.preprocessing import StandardScaler\n",
    "standardscalar = StandardScaler()\n",
    "scaled_df = pd.DataFrame(standardscalar.fit_transform(df[[\"sepal_length\", \"sepal_width\"]]))\n",
    "scaled_df.head()"
   ]
  },
  {
   "cell_type": "markdown",
   "id": "6e9f3d55-0940-426b-86c0-c203761e7a12",
   "metadata": {},
   "source": [
    "MinMaxScaler\n",
    "\n",
    "| Feature                    | Details                                                                                                  |\n",
    "| -------------------------- | -------------------------------------------------------------------------------------------------------- |\n",
    "| **Purpose**                | Scales data to a fixed range: usually **\\[0, 1]**                                                        |\n",
    "| **Formula**                | $X_{\\text{scaled}} = \\frac{X - X_{\\min}}{X_{\\max} - X_{\\min}}$                                           |\n",
    "| **Effect**                 | Transforms **minimum to 0** and **maximum to 1**                                                         |\n",
    "| **Sensitive to outliers?** | ✅ **Yes**, because it depends on min and max values                                                      |\n",
    "| **Use case**               | When you need **bounded features** (e.g., neural networks, distance-based models like KNN, SVM with RBF) |\n",
    "| **Preserves shape?**       | ✅ Yes, maintains the **original distribution** shape                                                     |\n",
    "| **Example**                | Useful when data is not normally distributed but needs to be in \\[0, 1]                                  |\n",
    "\n",
    "StandardScaler\n",
    "\n",
    "| Feature                    | Details                                                                                                     |\n",
    "| -------------------------- | ----------------------------------------------------------------------------------------------------------- |\n",
    "| **Purpose**                | Standardizes data to have **zero mean and unit variance**                                                   |\n",
    "| **Formula**                | $X_{\\text{scaled}} = \\frac{X - \\mu}{\\sigma}$                                                                |\n",
    "| **Effect**                 | Mean becomes 0, standard deviation becomes 1                                                                |\n",
    "| **Sensitive to outliers?** | ✅ **Yes**, due to mean and standard deviation                                                               |\n",
    "| **Use case**               | When features follow a **normal/Gaussian distribution** (e.g., linear regression, logistic regression, PCA) |\n",
    "| **Preserves shape?**       | ❌ No, can **change the shape** of the distribution                                                          |\n",
    "| **Example**                | Good for algorithms that assume Gaussian features or use gradients (like logistic regression)               |\n"
   ]
  },
  {
   "cell_type": "markdown",
   "id": "262a1271-25ef-4010-9716-c8a1b18fd55d",
   "metadata": {},
   "source": [
    "### Get Dummies"
   ]
  },
  {
   "cell_type": "code",
   "execution_count": 29,
   "id": "04f96cc3-a30d-419c-86a1-ff1dfb3da4f8",
   "metadata": {},
   "outputs": [
    {
     "data": {
      "text/html": [
       "<div>\n",
       "<style scoped>\n",
       "    .dataframe tbody tr th:only-of-type {\n",
       "        vertical-align: middle;\n",
       "    }\n",
       "\n",
       "    .dataframe tbody tr th {\n",
       "        vertical-align: top;\n",
       "    }\n",
       "\n",
       "    .dataframe thead th {\n",
       "        text-align: right;\n",
       "    }\n",
       "</style>\n",
       "<table border=\"1\" class=\"dataframe\">\n",
       "  <thead>\n",
       "    <tr style=\"text-align: right;\">\n",
       "      <th></th>\n",
       "      <th>sepal_length</th>\n",
       "      <th>sepal_width</th>\n",
       "      <th>petal_length</th>\n",
       "      <th>petal_width</th>\n",
       "      <th>Target</th>\n",
       "      <th>Target_names_versicolor</th>\n",
       "      <th>Target_names_virginica</th>\n",
       "    </tr>\n",
       "  </thead>\n",
       "  <tbody>\n",
       "    <tr>\n",
       "      <th>0</th>\n",
       "      <td>5.1</td>\n",
       "      <td>3.5</td>\n",
       "      <td>1.4</td>\n",
       "      <td>0.2</td>\n",
       "      <td>0</td>\n",
       "      <td>False</td>\n",
       "      <td>False</td>\n",
       "    </tr>\n",
       "    <tr>\n",
       "      <th>1</th>\n",
       "      <td>4.9</td>\n",
       "      <td>3.0</td>\n",
       "      <td>1.4</td>\n",
       "      <td>0.2</td>\n",
       "      <td>0</td>\n",
       "      <td>False</td>\n",
       "      <td>False</td>\n",
       "    </tr>\n",
       "    <tr>\n",
       "      <th>2</th>\n",
       "      <td>4.7</td>\n",
       "      <td>3.2</td>\n",
       "      <td>1.3</td>\n",
       "      <td>0.2</td>\n",
       "      <td>0</td>\n",
       "      <td>False</td>\n",
       "      <td>False</td>\n",
       "    </tr>\n",
       "    <tr>\n",
       "      <th>3</th>\n",
       "      <td>4.6</td>\n",
       "      <td>3.1</td>\n",
       "      <td>1.5</td>\n",
       "      <td>0.2</td>\n",
       "      <td>0</td>\n",
       "      <td>False</td>\n",
       "      <td>False</td>\n",
       "    </tr>\n",
       "    <tr>\n",
       "      <th>4</th>\n",
       "      <td>5.0</td>\n",
       "      <td>3.6</td>\n",
       "      <td>1.4</td>\n",
       "      <td>0.2</td>\n",
       "      <td>0</td>\n",
       "      <td>False</td>\n",
       "      <td>False</td>\n",
       "    </tr>\n",
       "  </tbody>\n",
       "</table>\n",
       "</div>"
      ],
      "text/plain": [
       "   sepal_length  sepal_width  petal_length  petal_width  Target  \\\n",
       "0           5.1          3.5           1.4          0.2       0   \n",
       "1           4.9          3.0           1.4          0.2       0   \n",
       "2           4.7          3.2           1.3          0.2       0   \n",
       "3           4.6          3.1           1.5          0.2       0   \n",
       "4           5.0          3.6           1.4          0.2       0   \n",
       "\n",
       "   Target_names_versicolor  Target_names_virginica  \n",
       "0                    False                   False  \n",
       "1                    False                   False  \n",
       "2                    False                   False  \n",
       "3                    False                   False  \n",
       "4                    False                   False  "
      ]
     },
     "execution_count": 29,
     "metadata": {},
     "output_type": "execute_result"
    }
   ],
   "source": [
    "# convert categorical variables into numarical to understand model\n",
    "df_dummies = pd.get_dummies(df , drop_first=True)\n",
    "df_dummies.head()"
   ]
  },
  {
   "cell_type": "markdown",
   "id": "d6316a3a-2465-4201-810c-41b18040946a",
   "metadata": {},
   "source": [
    "### OneHotEncoder"
   ]
  },
  {
   "cell_type": "code",
   "execution_count": 63,
   "id": "4bb35c4f-4ce8-4309-9dd0-70e3bd34c016",
   "metadata": {},
   "outputs": [
    {
     "data": {
      "text/html": [
       "<div>\n",
       "<style scoped>\n",
       "    .dataframe tbody tr th:only-of-type {\n",
       "        vertical-align: middle;\n",
       "    }\n",
       "\n",
       "    .dataframe tbody tr th {\n",
       "        vertical-align: top;\n",
       "    }\n",
       "\n",
       "    .dataframe thead th {\n",
       "        text-align: right;\n",
       "    }\n",
       "</style>\n",
       "<table border=\"1\" class=\"dataframe\">\n",
       "  <thead>\n",
       "    <tr style=\"text-align: right;\">\n",
       "      <th></th>\n",
       "      <th>first</th>\n",
       "      <th>second</th>\n",
       "      <th>third</th>\n",
       "    </tr>\n",
       "  </thead>\n",
       "  <tbody>\n",
       "    <tr>\n",
       "      <th>0</th>\n",
       "      <td>1.0</td>\n",
       "      <td>0.0</td>\n",
       "      <td>0.0</td>\n",
       "    </tr>\n",
       "    <tr>\n",
       "      <th>1</th>\n",
       "      <td>1.0</td>\n",
       "      <td>0.0</td>\n",
       "      <td>0.0</td>\n",
       "    </tr>\n",
       "    <tr>\n",
       "      <th>2</th>\n",
       "      <td>1.0</td>\n",
       "      <td>0.0</td>\n",
       "      <td>0.0</td>\n",
       "    </tr>\n",
       "    <tr>\n",
       "      <th>3</th>\n",
       "      <td>1.0</td>\n",
       "      <td>0.0</td>\n",
       "      <td>0.0</td>\n",
       "    </tr>\n",
       "    <tr>\n",
       "      <th>4</th>\n",
       "      <td>1.0</td>\n",
       "      <td>0.0</td>\n",
       "      <td>0.0</td>\n",
       "    </tr>\n",
       "  </tbody>\n",
       "</table>\n",
       "</div>"
      ],
      "text/plain": [
       "   first  second  third\n",
       "0    1.0     0.0    0.0\n",
       "1    1.0     0.0    0.0\n",
       "2    1.0     0.0    0.0\n",
       "3    1.0     0.0    0.0\n",
       "4    1.0     0.0    0.0"
      ]
     },
     "execution_count": 63,
     "metadata": {},
     "output_type": "execute_result"
    }
   ],
   "source": [
    "# it converts categorical variables into numarical variables to understand the mmodel\n",
    "from sklearn.preprocessing import OneHotEncoder\n",
    "\n",
    "encoder_1 = OneHotEncoder(sparse_output=False) # sparse=False returns a NumPy array\n",
    "encoded_1 = encoder_1.fit_transform(df[[\"Target_names\"]])\n",
    "encoded_df  = pd.DataFrame(encoded_1 , columns=  [\"first\" , \"second\", \"third\"])\n",
    "encoded_df.head()"
   ]
  },
  {
   "cell_type": "markdown",
   "id": "f485aa3d-8e7c-49c6-b6e9-2609dcb9cc85",
   "metadata": {},
   "source": [
    "### LabelEncoder "
   ]
  },
  {
   "cell_type": "code",
   "execution_count": 64,
   "id": "8e0b220e-85de-4283-a2ef-ad1877f4a87b",
   "metadata": {},
   "outputs": [
    {
     "data": {
      "text/html": [
       "<div>\n",
       "<style scoped>\n",
       "    .dataframe tbody tr th:only-of-type {\n",
       "        vertical-align: middle;\n",
       "    }\n",
       "\n",
       "    .dataframe tbody tr th {\n",
       "        vertical-align: top;\n",
       "    }\n",
       "\n",
       "    .dataframe thead th {\n",
       "        text-align: right;\n",
       "    }\n",
       "</style>\n",
       "<table border=\"1\" class=\"dataframe\">\n",
       "  <thead>\n",
       "    <tr style=\"text-align: right;\">\n",
       "      <th></th>\n",
       "      <th>0</th>\n",
       "    </tr>\n",
       "  </thead>\n",
       "  <tbody>\n",
       "    <tr>\n",
       "      <th>0</th>\n",
       "      <td>0</td>\n",
       "    </tr>\n",
       "    <tr>\n",
       "      <th>1</th>\n",
       "      <td>0</td>\n",
       "    </tr>\n",
       "    <tr>\n",
       "      <th>2</th>\n",
       "      <td>0</td>\n",
       "    </tr>\n",
       "    <tr>\n",
       "      <th>3</th>\n",
       "      <td>0</td>\n",
       "    </tr>\n",
       "    <tr>\n",
       "      <th>4</th>\n",
       "      <td>0</td>\n",
       "    </tr>\n",
       "  </tbody>\n",
       "</table>\n",
       "</div>"
      ],
      "text/plain": [
       "   0\n",
       "0  0\n",
       "1  0\n",
       "2  0\n",
       "3  0\n",
       "4  0"
      ]
     },
     "execution_count": 64,
     "metadata": {},
     "output_type": "execute_result"
    }
   ],
   "source": [
    "# it is used to convert categorical variables into numarical and it used on Target variable and it also goot for ordinal categorical variablabs\n",
    "from sklearn.preprocessing import LabelEncoder\n",
    "\n",
    "encoder_2 = LabelEncoder()\n",
    "encoded_2 = encoder_2.fit_transform(df[\"Target_names\"])\n",
    "encoded_df2 = pd.DataFrame(encoded_2)\n",
    "encoded_df2.head()"
   ]
  },
  {
   "cell_type": "markdown",
   "id": "aa108628-159c-4100-b77c-c5fa09dd12aa",
   "metadata": {},
   "source": [
    "| Method           | Purpose                     | Use On      | Output Format   | Can Reverse? | Pipeline Compatible? |\n",
    "| ---------------- | --------------------------- | ----------- | --------------- | ------------ | -------------------- |\n",
    "| `pd.get_dummies` | Feature encoding (manual)   | X (feature) | DataFrame (0/1) | ❌ Hard       | ❌ No                 |\n",
    "| `OneHotEncoder`  | Feature encoding (flexible) | X (feature) | NumPy/DataFrame | ✅ Yes        | ✅ Yes                |\n",
    "| `LabelEncoder`   | Target label encoding       | y (target)  | Integer values  | ✅ Yes        | ✅ Yes (on y only)    |\n",
    "\n",
    "Common Mistakes to Avoid:\n",
    "❌ Don’t use LabelEncoder on input features — it may mislead the model into treating categories as ordinal.\n",
    "✅ Prefer OneHotEncoder or pd.get_dummies() for categorical features.\n",
    "✅ Use LabelEncoder strictly for encoding target labels."
   ]
  },
  {
   "cell_type": "markdown",
   "id": "a80260b3-43ea-43b7-9ab3-c431dedba123",
   "metadata": {},
   "source": [
    "## Decomposition & Dimensionality Reduction \n",
    "1. PCA  \n",
    "2. t-SNE  \n",
    "3. UMAP  "
   ]
  },
  {
   "cell_type": "markdown",
   "id": "e2d91e3b-0bab-4fbc-aed6-ddcedb821836",
   "metadata": {},
   "source": [
    "#### PCA"
   ]
  },
  {
   "cell_type": "code",
   "execution_count": 85,
   "id": "2e6cec58-1da4-4155-b89a-78c99a6491e4",
   "metadata": {},
   "outputs": [
    {
     "data": {
      "image/png": "[encoded data removed]",
      "text/plain": [
       "<Figure size 640x480 with 1 Axes>"
      ]
     },
     "metadata": {},
     "output_type": "display_data"
    }
   ],
   "source": [
    "# Projects data to orthogonal axes that capture the maximum variance. Linear method.\n",
    "\n",
    "from sklearn.decomposition import PCA\n",
    "import matplotlib.pyplot as plt\n",
    "pca = PCA(n_components=2)\n",
    "X_pca = pca.fit_transform(x)\n",
    "\n",
    "plt.scatter(X_pca[:, 0], X_pca[:, 1], c=df[\"sepal_width\"])\n",
    "plt.title(\"PCA\")\n",
    "plt.show()"
   ]
  },
  {
   "cell_type": "markdown",
   "id": "4c64343d-4e04-483e-83a0-3a0e49db4cdb",
   "metadata": {},
   "source": [
    "#### t-SNE "
   ]
  },
  {
   "cell_type": "code",
   "execution_count": 90,
   "id": "407b28c8-f483-4f00-9a4c-671c10a7a070",
   "metadata": {},
   "outputs": [
    {
     "data": {
      "image/png": "[encoded data removed]",
      "text/plain": [
       "<Figure size 640x480 with 1 Axes>"
      ]
     },
     "metadata": {},
     "output_type": "display_data"
    }
   ],
   "source": [
    "#Converts pairwise similarities into probabilities, then minimizes KL divergence between high and low-dimensional similarities.\n",
    "# Focuses on local structure. Non-linear.\n",
    "\n",
    "from sklearn.manifold import TSNE\n",
    "\n",
    "tsne = TSNE(n_components=2, perplexity=30, random_state=42)\n",
    "X_tsne = tsne.fit_transform(x)\n",
    "plt.scatter(X_tsne[:, 0], X_tsne[:, 1])\n",
    "plt.title(\"t-SNE\")\n",
    "plt.show()"
   ]
  },
  {
   "cell_type": "markdown",
   "id": "41e27f5e-6d2e-40b0-8bfc-746711940345",
   "metadata": {},
   "source": [
    "#### UMAP "
   ]
  },
  {
   "cell_type": "code",
   "execution_count": 99,
   "id": "1b992a00-7ed4-488d-b733-48505aca9a96",
   "metadata": {},
   "outputs": [
    {
     "ename": "SyntaxError",
     "evalue": "invalid syntax (2019835734.py, line 3)",
     "output_type": "error",
     "traceback": [
      "\u001b[1;36m  Cell \u001b[1;32mIn[99], line 3\u001b[1;36m\u001b[0m\n\u001b[1;33m    pip install umap-learn\u001b[0m\n\u001b[1;37m        ^\u001b[0m\n\u001b[1;31mSyntaxError\u001b[0m\u001b[1;31m:\u001b[0m invalid syntax\n"
     ]
    }
   ],
   "source": [
    "#Models data as a graph and optimizes it for a low-dimensional layout.\n",
    "#Captures local & some global structure , Non-linear.\n",
    "pip install umap-learn\n",
    "import umap.umap_ as umap\n",
    "\n",
    "umap_model = umap.UMAP(n_components=2, random_state=42)\n",
    "X_umap = umap_model.fit_transform(x)\n",
    "\n",
    "plt.scatter(X_umap[:, 0], X_umap[:, 1], c=data.target)\n",
    "plt.title(\"UMAP\")\n",
    "plt.show()"
   ]
  },
  {
   "cell_type": "markdown",
   "id": "6e4e43e6-3848-44ce-abb1-67afc9a351c2",
   "metadata": {},
   "source": [
    "| Technique | Linear? | Focus               | Speed               | Can transform new data? | Best for                           |\n",
    "| --------- | ------- | ------------------- | ------------------- | ----------------------- | ---------------------------------- |\n",
    "| PCA       | ✅ Yes   | Global Var          | ⚡ Fast              | ✅ Yes                   | Feature compression, noise removal |\n",
    "| t-SNE     | ❌ No    | Local               | 🐢 Slow             | ❌ No                    | Cluster visualization              |\n",
    "| UMAP      | ❌ No    | Local + some global | ⚡ Faster than t-SNE | ✅ Yes (partial)         | Fast visualization, embedding      |\n",
    "\n",
    "| Task                              | Best Tool       |\r\n",
    "| --------------------------------- | --------------- |\r\n",
    "| Fast linear reduction             | ✅ PCA           |\r\n",
    "| Visualizing high-dimensional data | ✅ t-SNE or UMAP |\r\n",
    "| Real-time embedding or deployment | ✅ UMAP          |\r\n"
   ]
  },
  {
   "cell_type": "markdown",
   "id": "e37868e7-c66e-4d93-9a6f-7302aacf01aa",
   "metadata": {},
   "source": [
    "## Supervised Learning"
   ]
  },
  {
   "cell_type": "markdown",
   "id": "fe3a28c3-218e-451b-a9b9-dd3f0a3fbb7f",
   "metadata": {},
   "source": [
    "### Logistic Regression"
   ]
  },
  {
   "cell_type": "code",
   "execution_count": 122,
   "id": "34f7c4bd-2d04-4f72-b349-e08d53133928",
   "metadata": {},
   "outputs": [
    {
     "name": "stderr",
     "output_type": "stream",
     "text": [
      "C:\\myapps\\Anaconda\\Lib\\site-packages\\sklearn\\linear_model\\_logistic.py:458: ConvergenceWarning: lbfgs failed to converge (status=1):\n",
      "STOP: TOTAL NO. of ITERATIONS REACHED LIMIT.\n",
      "\n",
      "Increase the number of iterations (max_iter) or scale the data as shown in:\n",
      "    https://scikit-learn.org/stable/modules/preprocessing.html\n",
      "Please also refer to the documentation for alternative solver options:\n",
      "    https://scikit-learn.org/stable/modules/linear_model.html#logistic-regression\n",
      "  n_iter_i = _check_optimize_result(\n"
     ]
    },
    {
     "data": {
      "text/plain": [
       "0.9777777777777777"
      ]
     },
     "execution_count": 122,
     "metadata": {},
     "output_type": "execute_result"
    }
   ],
   "source": [
    "# A linear model for classification that predicts probabilities using the sigmoid function.\n",
    "from sklearn.linear_model import LogisticRegression\n",
    "\n",
    "log_reg = LogisticRegression(random_state=42)\n",
    "log_reg.fit(x_train, y_train)\n",
    "log_reg.predict(x_test)\n",
    "log_reg.score(x_test , y_test)"
   ]
  },
  {
   "cell_type": "markdown",
   "id": "d8d2af94-64cb-416d-972d-7e36fa9341a9",
   "metadata": {},
   "source": [
    "### Decesion Tree Classifier"
   ]
  },
  {
   "cell_type": "code",
   "execution_count": 126,
   "id": "c63d3b7c-9fbc-404d-810b-fa81781f1e42",
   "metadata": {},
   "outputs": [
    {
     "data": {
      "text/plain": [
       "0.9555555555555556"
      ]
     },
     "execution_count": 126,
     "metadata": {},
     "output_type": "execute_result"
    }
   ],
   "source": [
    "# A tree-based model that splits data based on information gain (entropy or Gini).\n",
    "from sklearn.tree import DecisionTreeClassifier\n",
    "dt = DecisionTreeClassifier(random_state=42)\n",
    "dt.fit(x_train, y_train)\n",
    "dt.predict(x_test)\n",
    "dt.score(x_test , y_test)"
   ]
  },
  {
   "cell_type": "markdown",
   "id": "e1f280c1-8f8d-4795-9d13-c4a13fa5f335",
   "metadata": {},
   "source": [
    "### Random Classifier"
   ]
  },
  {
   "cell_type": "code",
   "execution_count": 133,
   "id": "089acfb9-61e5-4998-b6e6-0d9d0e7349bd",
   "metadata": {},
   "outputs": [
    {
     "data": {
      "text/plain": [
       "0.9777777777777777"
      ]
     },
     "execution_count": 133,
     "metadata": {},
     "output_type": "execute_result"
    }
   ],
   "source": [
    "# An ensemble of decision trees using bagging to improve accuracy and reduce overfitting.\n",
    "from sklearn.ensemble import RandomForestClassifier\n",
    "rf = RandomForestClassifier(n_estimators=100, random_state=42)\n",
    "rf.fit(x_train, y_train)\n",
    "rf.predict(x_test)\n",
    "rf.score(x_test , y_test)"
   ]
  },
  {
   "cell_type": "markdown",
   "id": "44c1a954-8ff7-4fbb-82e7-d8bd464d5df3",
   "metadata": {},
   "source": [
    "### KNN"
   ]
  },
  {
   "cell_type": "code",
   "execution_count": 129,
   "id": "c2009013-79dd-4379-be87-95172e2c5f57",
   "metadata": {},
   "outputs": [
    {
     "data": {
      "text/plain": [
       "0.9777777777777777"
      ]
     },
     "execution_count": 129,
     "metadata": {},
     "output_type": "execute_result"
    }
   ],
   "source": [
    "# A lazy learner that classifies based on the majority label of k-nearest neighbors.\n",
    "from sklearn.neighbors import KNeighborsClassifier\n",
    "knn = KNeighborsClassifier(n_neighbors=3)\n",
    "knn.fit(x_train, y_train)\n",
    "knn.predict(x_test)\n",
    "knn.score(x_test , y_test)"
   ]
  },
  {
   "cell_type": "markdown",
   "id": "3b2f1296-37f2-4ad0-9f55-2b8009c54712",
   "metadata": {},
   "source": [
    "### SVC"
   ]
  },
  {
   "cell_type": "code",
   "execution_count": 130,
   "id": "f2bd0327-323a-4203-b20c-431a54d3285c",
   "metadata": {},
   "outputs": [
    {
     "data": {
      "text/plain": [
       "0.9777777777777777"
      ]
     },
     "execution_count": 130,
     "metadata": {},
     "output_type": "execute_result"
    }
   ],
   "source": [
    "# Finds the optimal hyperplane that separates classes with maximum margin. Can be linear or kernel-based.\n",
    "from sklearn.svm import SVC\n",
    "svm = SVC(kernel='linear', random_state=42)\n",
    "svm.fit(x_train, y_train)\n",
    "svm.predict(x_test)\n",
    "svm.score(x_test , y_test)"
   ]
  },
  {
   "cell_type": "markdown",
   "id": "cb44cee1-9f2e-4596-9bfd-d25c611bc3ef",
   "metadata": {},
   "source": [
    "### GaussianNB"
   ]
  },
  {
   "cell_type": "code",
   "execution_count": 131,
   "id": "295735e8-b342-4b21-8f93-b240ca73e0a1",
   "metadata": {},
   "outputs": [
    {
     "data": {
      "text/plain": [
       "0.9555555555555556"
      ]
     },
     "execution_count": 131,
     "metadata": {},
     "output_type": "execute_result"
    }
   ],
   "source": [
    "#A probabilistic classifier based on Bayes’ theorem assuming feature independence.\n",
    "from sklearn.naive_bayes import GaussianNB\n",
    "nb = GaussianNB()\n",
    "nb.fit(x_train, y_train)\n",
    "nb.predict(x_test)\n",
    "nb.score(x_test , y_test)"
   ]
  },
  {
   "cell_type": "markdown",
   "id": "74b075ab-2403-471a-b7a6-d2dea862a060",
   "metadata": {},
   "source": [
    "### Bagging "
   ]
  },
  {
   "cell_type": "code",
   "execution_count": 132,
   "id": "3b4ec0fc-2354-455b-9001-d22531171cb1",
   "metadata": {},
   "outputs": [
    {
     "name": "stderr",
     "output_type": "stream",
     "text": [
      "C:\\myapps\\Anaconda\\Lib\\site-packages\\sklearn\\ensemble\\_base.py:166: FutureWarning: `base_estimator` was renamed to `estimator` in version 1.2 and will be removed in 1.4.\n",
      "  warnings.warn(\n"
     ]
    },
    {
     "data": {
      "text/plain": [
       "0.9777777777777777"
      ]
     },
     "execution_count": 132,
     "metadata": {},
     "output_type": "execute_result"
    }
   ],
   "source": [
    "#An ensemble method that combines predictions from multiple base estimators (like decision trees) trained on bootstrapped samples.\n",
    "from sklearn.ensemble import BaggingClassifier\n",
    "from sklearn.tree import DecisionTreeClassifier\n",
    "\n",
    "bagging = BaggingClassifier(base_estimator=DecisionTreeClassifier(), n_estimators=10, random_state=42)\n",
    "bagging.fit(x_train, y_train)\n",
    "bagging.predict(x_test)\n",
    "bagging.score(x_test , y_test)"
   ]
  },
  {
   "cell_type": "markdown",
   "id": "07f51b81-fc2b-4904-91e0-cb34eac6d581",
   "metadata": {},
   "source": [
    "## Unsupervised Learning"
   ]
  },
  {
   "cell_type": "markdown",
   "id": "5402eb24-b8d4-4dea-b920-41fc1895f4dd",
   "metadata": {},
   "source": [
    "### KMeans Clustering"
   ]
  },
  {
   "cell_type": "code",
   "execution_count": 1,
   "id": "6732f1e1-b7ce-4bdd-a5f2-6602bbf74e51",
   "metadata": {},
   "outputs": [
    {
     "ename": "NameError",
     "evalue": "name 'X' is not defined",
     "output_type": "error",
     "traceback": [
      "\u001b[1;31m---------------------------------------------------------------------------\u001b[0m",
      "\u001b[1;31mNameError\u001b[0m                                 Traceback (most recent call last)",
      "Cell \u001b[1;32mIn[1], line 5\u001b[0m\n\u001b[0;32m      3\u001b[0m \u001b[38;5;66;03m# KMeans groups data into k clusters by minimizing intra-cluster variance\u001b[39;00m\n\u001b[0;32m      4\u001b[0m kmeans \u001b[38;5;241m=\u001b[39m KMeans(n_clusters\u001b[38;5;241m=\u001b[39m\u001b[38;5;241m3\u001b[39m, random_state\u001b[38;5;241m=\u001b[39m\u001b[38;5;241m42\u001b[39m)\n\u001b[1;32m----> 5\u001b[0m kmeans\u001b[38;5;241m.\u001b[39mfit(X)\n\u001b[0;32m      6\u001b[0m labels \u001b[38;5;241m=\u001b[39m kmeans\u001b[38;5;241m.\u001b[39mlabels_\n",
      "\u001b[1;31mNameError\u001b[0m: name 'X' is not defined"
     ]
    }
   ],
   "source": [
    "from sklearn.cluster import KMeans\n",
    "\n",
    "# KMeans groups data into k clusters by minimizing intra-cluster variance\n",
    "kmeans = KMeans(n_clusters=3, random_state=42)\n",
    "kmeans.fit(df)\n",
    "labels = kmeans.labels_  # Cluster labels for each point"
   ]
  },
  {
   "cell_type": "markdown",
   "id": "67551d0d-833e-493f-af5e-2d6c39ad6534",
   "metadata": {},
   "source": [
    "### DBSCAN"
   ]
  },
  {
   "cell_type": "code",
   "execution_count": null,
   "id": "de92991f-190a-49e3-a6e8-b5f62d2ea617",
   "metadata": {},
   "outputs": [],
   "source": [
    "from sklearn.cluster import DBSCAN\n",
    "\n",
    "# DBSCAN groups together closely packed points and marks outliers as noise\n",
    "dbscan = DBSCAN(eps=0.5, min_samples=5)\n",
    "dbscan.fit(df)\n",
    "labels = dbscan.labels_"
   ]
  },
  {
   "cell_type": "markdown",
   "id": "64d5c0cc-5168-434f-8681-023a74b94787",
   "metadata": {},
   "source": [
    "### Hierarchical"
   ]
  },
  {
   "cell_type": "code",
   "execution_count": null,
   "id": "687bdc6b-acea-4823-b4be-009bed32e076",
   "metadata": {},
   "outputs": [],
   "source": [
    "from sklearn.cluster import AgglomerativeClustering\n",
    "\n",
    "# AgglomerativeClustering builds clusters bottom-up by merging the closest pairs\n",
    "hc = AgglomerativeClustering(n_clusters=3)\n",
    "labels = hc.fit_predict(X)\n",
    "\n",
    "# Optional: For dendrogram visualization\n",
    "# from scipy.cluster.hierarchy import dendrogram, linkage\n",
    "# import matplotlib.pyplot as plt\n",
    "# Z = linkage(X, method='ward')\n",
    "# dendrogram(Z)\n",
    "# plt.show()"
   ]
  },
  {
   "cell_type": "markdown",
   "id": "c69b2572-f4b6-4fbc-9b13-64b985787073",
   "metadata": {},
   "source": [
    "### Gaussian Mixture Models (GMM)"
   ]
  },
  {
   "cell_type": "code",
   "execution_count": null,
   "id": "fe9ec47c-33fa-4561-9277-f95bbaad97f2",
   "metadata": {},
   "outputs": [],
   "source": [
    "from sklearn.mixture import GaussianMixture\n",
    "\n",
    "# GMM models data as a mixture of multiple Gaussian distributions\n",
    "gmm = GaussianMixture(n_components=3, random_state=42)\n",
    "gmm.fit(X)\n",
    "labels = gmm.predict(X)"
   ]
  },
  {
   "cell_type": "markdown",
   "id": "71a9aa7b-91df-4952-b2bb-9dd4252aadb9",
   "metadata": {},
   "source": [
    "## Model Evaluation and Metrics"
   ]
  },
  {
   "cell_type": "markdown",
   "id": "0aac039f-f991-4072-a627-a80816b2ee83",
   "metadata": {},
   "source": [
    "### Classification report"
   ]
  },
  {
   "cell_type": "code",
   "execution_count": null,
   "id": "0ceceecd-a7a5-4a51-9882-54ea1831561d",
   "metadata": {},
   "outputs": [],
   "source": [
    "from sklearn.metrics import classification_report\n",
    "\n",
    "# 💡 Theory:\n",
    "# classification_report gives a full performance summary for classification models:\n",
    "# - Precision: Of all predicted positives, how many were actually positive?\n",
    "# - Recall: Of all actual positives, how many did the model correctly identify?\n",
    "# - F1-score: Harmonic mean of precision and recall (good balance when data is imbalanced)\n",
    "# - Support: Number of actual samples in each class\n",
    "\n",
    "# Example:\n",
    "y_true = [0, 1, 1, 0, 1, 0]\n",
    "y_pred = [0, 1, 0, 0, 1, 1]\n",
    "\n",
    "print(\"Classification Report:\")\n",
    "print(classification_report(y_true, y_pred))"
   ]
  },
  {
   "cell_type": "markdown",
   "id": "2cc0b8a6-0b74-4a52-9baa-9abf32032c0c",
   "metadata": {},
   "source": [
    "| Metric        | Best For                         | Formula                        |\n",
    "| ------------- | -------------------------------- | ------------------------------ |\n",
    "| **Accuracy**  | Balanced classes                 | (TP + TN) / Total              |\n",
    "| **Precision** | When False Positives are costly  | TP / (TP + FP)                 |\n",
    "| **Recall**    | When False Negatives are costly  | TP / (TP + FN)                 |\n",
    "| **F1 Score**  | Balance between precision/recall | 2 × (Precision × Recall)/(P+R) |\n"
   ]
  },
  {
   "cell_type": "markdown",
   "id": "b4c9324b-7d83-46e6-a98d-c681f28d422c",
   "metadata": {},
   "source": [
    "### Confuasion Matrix"
   ]
  },
  {
   "cell_type": "code",
   "execution_count": null,
   "id": "bc8c60b6-72ef-4284-b061-b5b2ed7b4dd0",
   "metadata": {},
   "outputs": [],
   "source": [
    "from sklearn.metrics import confusion_matrix\n",
    "\n",
    "# 💡 Theory:\n",
    "# confusion_matrix compares the true labels with predicted labels\n",
    "# - It's a 2x2 (for binary classification) or NxN (multi-class) matrix\n",
    "# - Format:\n",
    "#     [[TN, FP],\n",
    "#      [FN, TP]]\n",
    "# - TP = True Positive, TN = True Negative, FP = False Positive, FN = False Negative\n",
    "#   Helps you calculate accuracy, precision, recall, etc.\n",
    "\n",
    "# Example:\n",
    "cm = confusion_matrix(y_true, y_pred)\n",
    "print(\"Confusion Matrix:\")\n",
    "print(cm)"
   ]
  },
  {
   "cell_type": "markdown",
   "id": "3ac39457-2dea-439b-9ac9-c3e77a96a774",
   "metadata": {},
   "source": [
    "### Accuracy score"
   ]
  },
  {
   "cell_type": "code",
   "execution_count": null,
   "id": "7a5de86a-afa2-4660-84b7-eea3740c150b",
   "metadata": {},
   "outputs": [],
   "source": [
    "from sklearn.metrics import accuracy_score\n",
    "\n",
    "# 💡 Theory:\n",
    "# Accuracy = (Correct predictions) / (Total predictions)\n",
    "# Use only when classes are balanced; otherwise, misleading.\n",
    "\n",
    "accuracy = accuracy_score(y_true, y_pred)\n",
    "print(\"Accuracy:\", accuracy)"
   ]
  },
  {
   "cell_type": "markdown",
   "id": "97e90487-0e2f-4ddb-971f-c0928cec5a36",
   "metadata": {},
   "source": [
    "### ROC AUC Score"
   ]
  },
  {
   "cell_type": "code",
   "execution_count": null,
   "id": "47c5d753-b980-4233-a4f3-d24c9c400637",
   "metadata": {},
   "outputs": [],
   "source": [
    "from sklearn.metrics import roc_auc_score\n",
    "\n",
    "# 💡 Theory:\n",
    "# Measures how well the model distinguishes between classes.\n",
    "# ROC AUC ranges from 0.0 to 1.0 — higher is better.\n",
    "# Use predicted probabilities, not hard labels.\n",
    "\n",
    "# Simulating predicted probabilities for class 1\n",
    "y_prob = [0.1, 0.9, 0.4, 0.2, 0.8, 0.7]\n",
    "roc_auc = roc_auc_score(y_true, y_prob)\n",
    "print(\"ROC AUC Score:\", roc_auc)"
   ]
  },
  {
   "cell_type": "markdown",
   "id": "57555533-f9a5-42ba-8047-6a9ffc683c4e",
   "metadata": {},
   "source": [
    "## Import and Utilities"
   ]
  },
  {
   "cell_type": "markdown",
   "id": "2996dc59-bca1-4ebd-8286-d429a9588464",
   "metadata": {},
   "source": [
    "### Pickle"
   ]
  },
  {
   "cell_type": "code",
   "execution_count": null,
   "id": "61431864-445c-44e1-8c4c-8a6e60e694ba",
   "metadata": {},
   "outputs": [],
   "source": [
    "import pickle\n",
    "# 💡 Theory:\n",
    "# Pickle is used to serialize and save Python objects (like trained ML models) to a file,\n",
    "# and later load them without retraining.\n",
    "\n",
    "# --- Save Model to Disk ---\n",
    "with open('model.pkl', 'wb') as f:\n",
    "    pickle.dump(model, f)\n",
    "\n",
    "# --- Load Model from Disk ---\n",
    "with open('model.pkl', 'rb') as f:\n",
    "    loaded_model = pickle.load(f)\n",
    "\n",
    "# --- Predict using loaded model ---\n",
    "y_pred = loaded_model.predict(X_test)"
   ]
  },
  {
   "cell_type": "markdown",
   "id": "83f4c450-4f1b-4e40-b8b1-f298a6c96ceb",
   "metadata": {},
   "source": [
    "### Pipeline"
   ]
  },
  {
   "cell_type": "code",
   "execution_count": null,
   "id": "57a935a6-edb9-4b6b-a810-a12cca8e0b70",
   "metadata": {},
   "outputs": [],
   "source": [
    "\n",
    "from sklearn.pipeline import Pipeline\n",
    "from sklearn.preprocessing import StandardScaler\n",
    "from sklearn.linear_model import LogisticRegression\n",
    "from sklearn.compose import ColumnTransformer\n",
    "\n",
    "# 💡 Theory:\n",
    "# Pipeline allows you to bundle preprocessing + modeling steps together\n",
    "# Helps avoid data leakage and makes code cleaner\n",
    "\n",
    "trf1 = ColumnTransformer([\n",
    "    ('scaled' , MinMaxScaler() , [0,1,2,3])\n",
    "] , remainder='passthrough')\n",
    "\n",
    "trf3 = DecisionTreeClassifier()\n",
    "\n",
    "pipe = Pipeline([\n",
    "    ('trf1' , trf1),\n",
    "    ('trf3' , trf3)\n",
    "])\n",
    "\n",
    "model2 = pipe.fit(x_train , y_train)\n",
    "y_pred = pipe.predict(x_test)"
   ]
  }
 ],
 "metadata": {
  "kernelspec": {
   "display_name": "Python 3 (ipykernel)",
   "language": "python",
   "name": "python3"
  },
  "language_info": {
   "codemirror_mode": {
    "name": "ipython",
    "version": 3
   },
   "file_extension": ".py",
   "mimetype": "text/x-python",
   "name": "python",
   "nbconvert_exporter": "python",
   "pygments_lexer": "ipython3",
   "version": "3.11.7"
  }
 },
 "nbformat": 4,
 "nbformat_minor": 5
}
